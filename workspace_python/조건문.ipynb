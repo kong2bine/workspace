{
 "cells": [
  {
   "cell_type": "code",
   "execution_count": 2,
   "metadata": {},
   "outputs": [
    {
     "name": "stdout",
     "output_type": "stream",
     "text": [
      "3\n"
     ]
    }
   ],
   "source": [
    "# 2024.8.13\n",
    "#파이썬은 세미콜론 없음\n",
    "#파이썬은 중괄호도 없음\n",
    "num = 5\n",
    "\n",
    "if num > 10 : \n",
    "  print(1)\n",
    "elif num > 5 : \n",
    "  print(2)\n",
    "else :\n",
    "  print(3)"
   ]
  },
  {
   "cell_type": "code",
   "execution_count": 4,
   "metadata": {},
   "outputs": [
    {
     "name": "stdout",
     "output_type": "stream",
     "text": [
      "1\n"
     ]
    }
   ],
   "source": [
    "# 조건문의 영역은 어디까지?\n",
    "# 파이썬은 모든 문법의 영역을 들여쓰기로 판단 \n",
    "if 10 < 5 : \n",
    "  print(1)\n",
    "  print(1)\n",
    "  print(1)\n",
    "\n",
    "print(1)"
   ]
  },
  {
   "cell_type": "code",
   "execution_count": 8,
   "metadata": {},
   "outputs": [
    {
     "name": "stdout",
     "output_type": "stream",
     "text": [
      "12\n"
     ]
    }
   ],
   "source": [
    "# 키보드로 두 정수를 입력받아 두 정수 중 큰 수를 출력\n",
    "num1 = int(input('첫 번 째 정수를 입력하시오'))\n",
    "num2 = int(input('두 번 째 정수를 입력하시오'))\n",
    "if num1>num2 :\n",
    "  print(num1)\n",
    "else :\n",
    "  print(num2) # 똑같은 수 입력의 경우를 생각하지 않은 코드\n",
    "\n",
    "# 같은 경우가 있을 수 있으니 ㄱ이렇게 쓰는게 맞음\n",
    "# elif num2 > num1 : \n",
    "#   print(num2)\n",
    "# else : \n",
    "#   print('같습니다')"
   ]
  },
  {
   "cell_type": "code",
   "execution_count": null,
   "metadata": {},
   "outputs": [],
   "source": []
  },
  {
   "cell_type": "code",
   "execution_count": null,
   "metadata": {},
   "outputs": [],
   "source": []
  },
  {
   "cell_type": "code",
   "execution_count": null,
   "metadata": {},
   "outputs": [],
   "source": []
  },
  {
   "cell_type": "code",
   "execution_count": null,
   "metadata": {},
   "outputs": [],
   "source": []
  }
 ],
 "metadata": {
  "kernelspec": {
   "display_name": "Python 3",
   "language": "python",
   "name": "python3"
  },
  "language_info": {
   "codemirror_mode": {
    "name": "ipython",
    "version": 3
   },
   "file_extension": ".py",
   "mimetype": "text/x-python",
   "name": "python",
   "nbconvert_exporter": "python",
   "pygments_lexer": "ipython3",
   "version": "3.12.4"
  }
 },
 "nbformat": 4,
 "nbformat_minor": 2
}
