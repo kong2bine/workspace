{
 "cells": [
  {
   "cell_type": "code",
   "execution_count": 1,
   "metadata": {},
   "outputs": [
    {
     "name": "stdout",
     "output_type": "stream",
     "text": [
      "제이름은 홍길동이고 나이는 20입니다\n"
     ]
    }
   ],
   "source": [
    "name = '홍길동'\n",
    "age = 20\n",
    "\n",
    "#제 이름은 홍길동이고 나이는 20살입니다\n",
    "print(f'제이름은 {name}이고 나이는 {age}입니다')"
   ]
  },
  {
   "cell_type": "code",
   "execution_count": null,
   "metadata": {},
   "outputs": [],
   "source": [
    "# 키보드로 입력받기\n",
    "# input() 함수 사용으로 키보드로 값을 입력받을 수 있음\n",
    "num = input('숫자를 입력하세요 : ')\n",
    "print(f'입력받은 수는 {num}입니다')"
   ]
  },
  {
   "cell_type": "code",
   "execution_count": null,
   "metadata": {},
   "outputs": [],
   "source": [
    "# 문자열을 정수로 변환\n",
    "result1 = int('10')\n",
    "result2 = int('100')\n",
    "print(result1 + result2)\n"
   ]
  },
  {
   "cell_type": "code",
   "execution_count": null,
   "metadata": {},
   "outputs": [],
   "source": [
    "# 두 정수를 입력받아 두 정수의 합을 출력\n",
    "num1 = int(input('첫 번 째 수'))\n",
    "num2 = int(input('두 번 째 수'))\n",
    "print(f'입력받은 수의 합은 {num1+num2}입니다')"
   ]
  },
  {
   "cell_type": "code",
   "execution_count": null,
   "metadata": {},
   "outputs": [],
   "source": [
    "# 키보드로 학생의 이름, 나이, 국어점수, 영어점수, 수학점수를 입력 받아\n",
    "# 입력받은 학생의 이름, 나이, 국어점수, 영어점수, 수학점수 및 총점과 평균 출력\n",
    "stuName = input('이름을 입력하시오') \n",
    "korScore = int(input('국어점수를 입력하시오'))\n",
    "engScore = int(input('영어점수를 입력하시오')) \n",
    "mathScore = int(input('수학점수를 입력하시오'))\n",
    "print(f'{stuName}학생의 총점은{korScore+engScore+mathScore}이고, 평균은{(korScore+engScore+mathScore)/3}입니다')\n",
    "\n",
    "# ㄱ이렇게 해도 됑\n",
    "# 총점 및 평균\n",
    "# totalScore = korScore + engScore + mathScore\n",
    "# avg = totalScore / 3\n",
    "# 결과 출력\n",
    "# print(f'이름 : {name}')\n",
    "# print(f'국어 : {korScore}')\n",
    "# print(f'영어 : {engScore}')\n",
    "# print(f'수학 : {mathScore}')\n",
    "# print(f'총점 : {totalScore}')\n",
    "# print(f'평균 : {avg}')"
   ]
  },
  {
   "cell_type": "code",
   "execution_count": null,
   "metadata": {},
   "outputs": [],
   "source": []
  }
 ],
 "metadata": {
  "kernelspec": {
   "display_name": "Python 3",
   "language": "python",
   "name": "python3"
  },
  "language_info": {
   "codemirror_mode": {
    "name": "ipython",
    "version": 3
   },
   "file_extension": ".py",
   "mimetype": "text/x-python",
   "name": "python",
   "nbconvert_exporter": "python",
   "pygments_lexer": "ipython3",
   "version": "3.12.4"
  }
 },
 "nbformat": 4,
 "nbformat_minor": 2
}
