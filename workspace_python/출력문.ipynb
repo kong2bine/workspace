{
 "cells": [
  {
   "cell_type": "markdown",
   "metadata": {},
   "source": [
    "Markdown 영역은 코드를 작성하는 곳이 아니라, 코멘트를 추가할 수 있는 영역\n",
    "\n",
    "### jupyter 단축키\n",
    "\n",
    "* y : 코드를 실행할 수 있는 cell로 변환\n",
    "* m : 마크다운을 쓸 수 있는 cell로 변환\n",
    "* ctrl + Enter : cell 실행\n",
    "* ctrl + space : 코드 자동완성\n",
    "* a : 현재 cell의 위에 하나의 cell 추가\n",
    "* b : 현재 cell의 아래에 하나의 cell 추가\n",
    "* dd : 현재 cell 삭제"
   ]
  },
  {
   "cell_type": "markdown",
   "metadata": {},
   "source": [
    "#### 1. 파이썬에서의 출력문\n"
   ]
  },
  {
   "cell_type": "code",
   "execution_count": 4,
   "metadata": {},
   "outputs": [
    {
     "name": "stdout",
     "output_type": "stream",
     "text": [
      "10\n",
      "python\n",
      "python\n"
     ]
    }
   ],
   "source": [
    "# 실행 단축키 :  ctrl + enter\n",
    "# 파이썬에서 출력 할 때는 print() 함수 사용\n",
    "# () 안의 내용을 출력\n",
    "# 파이썬에서 문자열 출력 시 홀/쌍따옴표로 감싸야 함\n",
    "print(10)\n",
    "print('python')\n",
    "print(\"python\")\n"
   ]
  },
  {
   "cell_type": "code",
   "execution_count": 8,
   "metadata": {},
   "outputs": [
    {
     "name": "stdout",
     "output_type": "stream",
     "text": [
      "9\n",
      "2.5\n",
      "2\n",
      "1\n"
     ]
    }
   ],
   "source": [
    "# 출력문 안의 연산식은 연산 결과를 출력\n",
    "print(5+4)\n",
    "print(10/4)\n",
    "print(10//4) # 나눗셈의 몫\n",
    "print(10%3) # 나눗셈의 나머지"
   ]
  },
  {
   "cell_type": "code",
   "execution_count": 9,
   "metadata": {},
   "outputs": [
    {
     "name": "stdout",
     "output_type": "stream",
     "text": [
      "pythonjava\n"
     ]
    }
   ],
   "source": [
    "# 문자열 출력\n",
    "print('python'+'java')\n",
    "# print('python' +5) 문자열과 숫자는 더하기 x"
   ]
  },
  {
   "cell_type": "code",
   "execution_count": 10,
   "metadata": {},
   "outputs": [
    {
     "name": "stdout",
     "output_type": "stream",
     "text": [
      "10 20 python java\n"
     ]
    }
   ],
   "source": [
    "#파이썬 만의 문법\n",
    "print(10,20, 'python', 'java')"
   ]
  },
  {
   "cell_type": "code",
   "execution_count": 3,
   "metadata": {},
   "outputs": [
    {
     "name": "stdout",
     "output_type": "stream",
     "text": [
      "python python "
     ]
    }
   ],
   "source": [
    "# print() 험수의 end 매개변수의 값을 변경해서 출력 후 실행 할 내용을 변경\n",
    "print('python', end=' ')\n",
    "print('python', end=' ')"
   ]
  }
 ],
 "metadata": {
  "kernelspec": {
   "display_name": "Python 3",
   "language": "python",
   "name": "python3"
  },
  "language_info": {
   "codemirror_mode": {
    "name": "ipython",
    "version": 3
   },
   "file_extension": ".py",
   "mimetype": "text/x-python",
   "name": "python",
   "nbconvert_exporter": "python",
   "pygments_lexer": "ipython3",
   "version": "3.12.4"
  }
 },
 "nbformat": 4,
 "nbformat_minor": 2
}
