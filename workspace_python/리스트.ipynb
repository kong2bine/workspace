{
 "cells": [
  {
   "cell_type": "code",
   "execution_count": null,
   "metadata": {},
   "outputs": [],
   "source": [
    "# 2024.8.14\n",
    "# 리스트 변수 만들 때 변수명으로 list 절대 사용 금지\n",
    "# 리스트 생성\n",
    "list1 = []\n",
    "list2 = [1,2,3, 'python']\n",
    "list3 = [1,2,[3,4,5], [6,7]]\n",
    "\n",
    "#리스트의 요소에 접근 방법\n",
    "list[0]\n"
   ]
  },
  {
   "cell_type": "code",
   "execution_count": 6,
   "metadata": {},
   "outputs": [
    {
     "name": "stdout",
     "output_type": "stream",
     "text": [
      "5\n"
     ]
    }
   ],
   "source": [
    "list3 = [1,2,[3,4,5], [6,7]]\n",
    "\n",
    "# 위의 리스트에서 5만 출력\n",
    "print(list3[2][2])"
   ]
  },
  {
   "cell_type": "code",
   "execution_count": 8,
   "metadata": {},
   "outputs": [
    {
     "name": "stdout",
     "output_type": "stream",
     "text": [
      "[1, 2, '홍길동', [1, 2, 3]]\n"
     ]
    }
   ],
   "source": [
    "# 리스트에 데이터 추가\n",
    "\n",
    "# 빈 리스트를 생성\n",
    "list1 = []\n",
    "\n",
    "# 데이터 추가\n",
    "# append() list의 마지막에 데이터 추가\n",
    "list1.append(1)\n",
    "list1.append(2)\n",
    "list1.append('홍길동')\n",
    "list1.append([1,2,3])\n",
    "\n",
    "# 데이터 출력\n",
    "print(list1)"
   ]
  },
  {
   "cell_type": "code",
   "execution_count": 28,
   "metadata": {},
   "outputs": [
    {
     "name": "stdout",
     "output_type": "stream",
     "text": [
      "[1, 5, 5, 5, 5, '홍길동', [1, 2, 3]]\n"
     ]
    }
   ],
   "source": [
    "# 데이터 추가 두 번 째\n",
    "# insert(추가할 위치, 추가할 데이터)\n",
    "list1.insert(1,5)\n",
    "print(list1)"
   ]
  },
  {
   "cell_type": "code",
   "execution_count": 30,
   "metadata": {},
   "outputs": [
    {
     "name": "stdout",
     "output_type": "stream",
     "text": [
      "삭제 전 데이터\n",
      "[1, 5, 5, 5, '홍길동', [1, 2, 3]]\n",
      "삭제 후 데이터\n",
      "[1, 5, 5, '홍길동', [1, 2, 3]]\n"
     ]
    }
   ],
   "source": [
    "# 리스트 데이터 삭제1\n",
    "print('삭제 전 데이터')\n",
    "print(list1)\n",
    "\n",
    "list1.remove(5)\n",
    "\n",
    "print('삭제 후 데이터')\n",
    "print(list1)\n"
   ]
  },
  {
   "cell_type": "code",
   "execution_count": 31,
   "metadata": {},
   "outputs": [
    {
     "name": "stdout",
     "output_type": "stream",
     "text": [
      "[2, 'python', [1, 2, 3]]\n"
     ]
    }
   ],
   "source": [
    "#리스트 데이터 삭제2 (추천!!!)\n",
    "list4 = [1,2, 'python',[1,2,3]]\n",
    "\n",
    "del list4[0]\n",
    "\n",
    "print(list4)"
   ]
  },
  {
   "cell_type": "code",
   "execution_count": 32,
   "metadata": {},
   "outputs": [],
   "source": [
    "# 삭제 시 주의\n",
    "del list4"
   ]
  },
  {
   "cell_type": "code",
   "execution_count": 33,
   "metadata": {},
   "outputs": [
    {
     "ename": "NameError",
     "evalue": "name 'list4' is not defined",
     "output_type": "error",
     "traceback": [
      "\u001b[1;31m---------------------------------------------------------------------------\u001b[0m",
      "\u001b[1;31mNameError\u001b[0m                                 Traceback (most recent call last)",
      "Cell \u001b[1;32mIn[33], line 1\u001b[0m\n\u001b[1;32m----> 1\u001b[0m \u001b[38;5;28mprint\u001b[39m(\u001b[43mlist4\u001b[49m)\n",
      "\u001b[1;31mNameError\u001b[0m: name 'list4' is not defined"
     ]
    }
   ],
   "source": [
    "print(list4)"
   ]
  },
  {
   "cell_type": "code",
   "execution_count": 35,
   "metadata": {},
   "outputs": [],
   "source": [
    "stuNum = 10"
   ]
  },
  {
   "cell_type": "code",
   "execution_count": 36,
   "metadata": {},
   "outputs": [],
   "source": [
    "del stunum"
   ]
  },
  {
   "cell_type": "code",
   "execution_count": 37,
   "metadata": {},
   "outputs": [
    {
     "name": "stdout",
     "output_type": "stream",
     "text": [
      "[1, 5, 3]\n"
     ]
    }
   ],
   "source": [
    "# 리스트 데이터 수정\n",
    "list5 = [1,2,3]\n",
    "list5[1] = 5\n",
    "print(list5)"
   ]
  },
  {
   "cell_type": "code",
   "execution_count": 39,
   "metadata": {},
   "outputs": [
    {
     "name": "stdout",
     "output_type": "stream",
     "text": [
      "[1, 2, 3, 4, 5]\n",
      "[1, 2, 3, 1, 2, 3]\n"
     ]
    }
   ],
   "source": [
    "# 리스트 합치기\n",
    "list6= [1,2,3]+[4,5]\n",
    "print(list6)\n",
    "\n",
    "list7 = [1,2,3]*2\n",
    "print(list7)"
   ]
  },
  {
   "cell_type": "code",
   "execution_count": 44,
   "metadata": {},
   "outputs": [
    {
     "name": "stdout",
     "output_type": "stream",
     "text": [
      "[2, 3, 4]\n",
      "[2, 3, 4, 5]\n",
      "[1, 2, 3]\n"
     ]
    }
   ],
   "source": [
    "# 리스트의 슬라이싱 : 리스트 데이터의 일부 추출\n",
    "list1 = [1,2,3,4,5]\n",
    "print(list1[1:4])\n",
    "print(list1[1:])\n",
    "print(list1[:3])"
   ]
  },
  {
   "cell_type": "code",
   "execution_count": 46,
   "metadata": {},
   "outputs": [
    {
     "name": "stdout",
     "output_type": "stream",
     "text": [
      "[1, 4, 5]\n"
     ]
    }
   ],
   "source": [
    "list1=[1,2,3,4,5]\n",
    "del list1[1:3]\n",
    "print(list1)"
   ]
  },
  {
   "cell_type": "code",
   "execution_count": 50,
   "metadata": {},
   "outputs": [
    {
     "name": "stdout",
     "output_type": "stream",
     "text": [
      "[1, 7, 8, 4, 5]\n"
     ]
    }
   ],
   "source": [
    "# 슬라이싱을 이용한 데이터 수정\n",
    "list1=[1,2,3,4,5]\n",
    "list1[1:3] = [7,8]\n",
    "print(list1)"
   ]
  },
  {
   "cell_type": "code",
   "execution_count": 48,
   "metadata": {},
   "outputs": [
    {
     "name": "stdout",
     "output_type": "stream",
     "text": [
      "5\n",
      "list[slice(1, -1, None)]\n"
     ]
    }
   ],
   "source": [
    "# 리스트의 마지막 데이터를 알고 싶을 때 [-1] 사용\n",
    "list1 = [1,2,3,4,5]\n",
    "print(list1[-1])\n",
    "print(list[1:-1])\n",
    "\n"
   ]
  },
  {
   "cell_type": "code",
   "execution_count": 56,
   "metadata": {},
   "outputs": [
    {
     "name": "stdout",
     "output_type": "stream",
     "text": [
      "6\n"
     ]
    }
   ],
   "source": [
    "#1.키보드로 세 수를 입력받고 입력받은 세 수를 리스트에 저장. 그 후 리스트에 저장된 수 중 가장 큰 수와 가장 작은 수의 차 출력\n",
    "# num1 = int(input('첫 번 째 :'))\n",
    "# num2 = int(input('두 번 째 :'))\n",
    "# num3 = int(input('세 번 째 :'))\n",
    "\n",
    "# numList1 = max([num1, num2, num3])\n",
    "# print(f'가장 큰 수 : {numList1}')\n",
    "\n",
    "# numList2 = min([num1, num2, num3])\n",
    "# print(f'가장 큰 수와 가장 작은 수의 차 : {numList1-numList2}')\n",
    "\n",
    "#ㄴ이것도 물론 가능하지만 ㄱ이렇게 반복문 쓰면 더 깔끔ㅎ\n",
    "\n",
    "list1=[]\n",
    "for i in range(3) :\n",
    "  num = int(input(f'{i+1}번 째 정수 입력 : '))\n",
    "  list1.append(num)\n",
    "\n",
    "answer = max(list1) - min(list1)\n",
    "print(answer)\n"
   ]
  },
  {
   "cell_type": "code",
   "execution_count": 57,
   "metadata": {},
   "outputs": [
    {
     "name": "stdout",
     "output_type": "stream",
     "text": [
      "p\n"
     ]
    }
   ],
   "source": [
    "# 문자열도 리스트다!\n",
    "name = 'python'\n",
    "print(name[0])"
   ]
  },
  {
   "cell_type": "code",
   "execution_count": 58,
   "metadata": {},
   "outputs": [
    {
     "name": "stdout",
     "output_type": "stream",
     "text": [
      "4\n"
     ]
    }
   ],
   "source": [
    "# 아래 리스트에 저장된 문자열에서 'r'이라는 알파벳의 갯수를 출력\n",
    "strList = ['father', 'mother','brother']\n",
    "\n",
    "cnt = 0\n",
    "for word in strList :\n",
    "  for alphabet in word:\n",
    "    if alphabet == 'r':\n",
    "      cnt = cnt +1\n",
    "\n",
    "print(cnt)"
   ]
  }
 ],
 "metadata": {
  "kernelspec": {
   "display_name": "Python 3",
   "language": "python",
   "name": "python3"
  },
  "language_info": {
   "codemirror_mode": {
    "name": "ipython",
    "version": 3
   },
   "file_extension": ".py",
   "mimetype": "text/x-python",
   "name": "python",
   "nbconvert_exporter": "python",
   "pygments_lexer": "ipython3",
   "version": "3.12.4"
  }
 },
 "nbformat": 4,
 "nbformat_minor": 2
}
