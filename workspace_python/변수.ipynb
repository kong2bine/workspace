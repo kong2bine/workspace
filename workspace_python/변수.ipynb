{
 "cells": [
  {
   "cell_type": "markdown",
   "metadata": {},
   "source": [
    "#### 변수\n",
    "1. python은 자바와 다르게 자료형이 보이지 않음\n",
    "2. 변수명은 자바와 동일한 형식으로 지정, 중복 불가"
   ]
  },
  {
   "cell_type": "code",
   "execution_count": 2,
   "metadata": {},
   "outputs": [
    {
     "name": "stdout",
     "output_type": "stream",
     "text": [
      "5\n"
     ]
    }
   ],
   "source": [
    "# 숫자를 저장하는 변수 선언 및 값 할당\n",
    "num1 = 5\n",
    "print(num1)"
   ]
  },
  {
   "cell_type": "code",
   "execution_count": 4,
   "metadata": {},
   "outputs": [
    {
     "name": "stdout",
     "output_type": "stream",
     "text": [
      "<class 'int'>\n",
      "<class 'float'>\n",
      "<class 'str'>\n"
     ]
    }
   ],
   "source": [
    "# 눈에 보이지는 않지만 자료형 개념은 존재\n",
    "num2 = 20\n",
    "num3 = 10.5\n",
    "strData = 'python'\n",
    "\n",
    "#type() 함수는 매개변수로 전달된 데이터의 자료형을 알려줌\n",
    "print(type(num2))\n",
    "print(type(num3))\n",
    "print(type(strData))\n",
    "\n",
    "# 정수가 저장된 변수에 문자열이나 실수처럼 다른 자료형이 저장될까?\n",
    "num4 = 20\n",
    "num4 = 'python'\n",
    "print(num4)\n",
    "\n",
    "#같은 파일 안에 있는 cell은 공간만 분리되어 있을뿐 변수는 공유하고 있음(다른 셀에서 만든 변수 사용 가능)\n"
   ]
  },
  {
   "cell_type": "code",
   "execution_count": 10,
   "metadata": {},
   "outputs": [
    {
     "name": "stdout",
     "output_type": "stream",
     "text": [
      "내 이름은 홍길동입니다\n"
     ]
    }
   ],
   "source": [
    "# 포맷 출력(자바스크립트의 빽틱)\n",
    "name = '홍길동'\n",
    "\n",
    "# 내 이름은 홍길동입니다.\n",
    "print('내 이름은 '+ name +\"입니다\")\n",
    "\n",
    "age = 20\n",
    "# 제 나이는 20살입니다\n",
    "# print('제 나이는' +age) <- 문자와 숫자의 합은 오류남!"
   ]
  },
  {
   "cell_type": "code",
   "execution_count": 11,
   "metadata": {},
   "outputs": [
    {
     "name": "stdout",
     "output_type": "stream",
     "text": [
      "제이름은 홍길동이고 나이는 20입니다\n"
     ]
    }
   ],
   "source": [
    "name = '홍길동'\n",
    "age = 20\n",
    "\n",
    "#제 이름은 홍길동이고 나이는 20살입니다\n",
    "print(f'제이름은 {name}이고 나이는 {age}입니다')"
   ]
  },
  {
   "cell_type": "code",
   "execution_count": 13,
   "metadata": {},
   "outputs": [
    {
     "name": "stdout",
     "output_type": "stream",
     "text": [
      "입력받은 수는 3입니다\n"
     ]
    }
   ],
   "source": [
    "# 키보드로 입력받기\n",
    "# input() 함수 사용으로 키보드로 값을 입력받을 수 있음\n",
    "num = input('숫자를 입력하세요 : ')\n",
    "print(f'입력받은 수는 {num}입니다')"
   ]
  },
  {
   "cell_type": "code",
   "execution_count": 18,
   "metadata": {},
   "outputs": [
    {
     "name": "stdout",
     "output_type": "stream",
     "text": [
      "110\n"
     ]
    }
   ],
   "source": [
    "# 문자열을 정수로 변환\n",
    "result1 = int('10')\n",
    "result2 = int('100')\n",
    "print(result1 + result2)\n"
   ]
  },
  {
   "cell_type": "code",
   "execution_count": 22,
   "metadata": {},
   "outputs": [
    {
     "name": "stdout",
     "output_type": "stream",
     "text": [
      "입력받은 수의 합은 41입니다\n"
     ]
    }
   ],
   "source": [
    "# 두 정수를 입력받아 두 정수의 합을 출력\n",
    "num1 = int(input('첫 번 째 수'))\n",
    "num2 = int(input('두 번 째 수'))\n",
    "print(f'입력받은 수의 합은 {num1+num2}입니다')"
   ]
  },
  {
   "cell_type": "code",
   "execution_count": 26,
   "metadata": {},
   "outputs": [
    {
     "name": "stdout",
     "output_type": "stream",
     "text": [
      "88학생의 총점은234이고, 평균은78.0입니다\n"
     ]
    }
   ],
   "source": [
    "# 키보드로 학생의 이름, 나이, 국어점수, 영어점수, 수학점수를 입력 받아\n",
    "# 입력받은 학생의 이름, 나이, 국어점수, 영어점수, 수학점수 및 총점과 평균 출력\n",
    "stuName = input('이름을 입력하시오') \n",
    "korScore = int(input('국어점수를 입력하시오'))\n",
    "engScore = int(input('영어점수를 입력하시오')) \n",
    "mathScore = int(input('수학점수를 입력하시오'))\n",
    "print(f'{stuName}학생의 총점은{korScore+engScore+mathScore}이고, 평균은{(korScore+engScore+mathScore)/3}입니다')\n",
    "\n",
    "# ㄱ이렇게 해도 됑\n",
    "# 총점 및 평균\n",
    "# totalScore = korScore + engScore + mathScore\n",
    "# avg = totalScore / 3\n",
    "# 결과 출력\n",
    "# print(f'이름 : {name}')\n",
    "# print(f'국어 : {korScore}')\n",
    "# print(f'영어 : {engScore}')\n",
    "# print(f'수학 : {mathScore}')\n",
    "# print(f'총점 : {totalScore}')\n",
    "# print(f'평균 : {avg}')"
   ]
  },
  {
   "cell_type": "code",
   "execution_count": null,
   "metadata": {},
   "outputs": [],
   "source": []
  },
  {
   "cell_type": "code",
   "execution_count": null,
   "metadata": {},
   "outputs": [],
   "source": []
  },
  {
   "cell_type": "code",
   "execution_count": null,
   "metadata": {},
   "outputs": [],
   "source": []
  },
  {
   "cell_type": "code",
   "execution_count": null,
   "metadata": {},
   "outputs": [],
   "source": []
  },
  {
   "cell_type": "markdown",
   "metadata": {},
   "source": []
  }
 ],
 "metadata": {
  "kernelspec": {
   "display_name": "Python 3",
   "language": "python",
   "name": "python3"
  },
  "language_info": {
   "codemirror_mode": {
    "name": "ipython",
    "version": 3
   },
   "file_extension": ".py",
   "mimetype": "text/x-python",
   "name": "python",
   "nbconvert_exporter": "python",
   "pygments_lexer": "ipython3",
   "version": "3.12.4"
  }
 },
 "nbformat": 4,
 "nbformat_minor": 2
}
